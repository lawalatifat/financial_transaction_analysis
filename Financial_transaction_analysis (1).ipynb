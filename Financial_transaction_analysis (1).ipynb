{
 "cells": [
  {
   "cell_type": "markdown",
   "id": "a1b5ab28-1966-425f-8520-ff53be78ffb5",
   "metadata": {},
   "source": [
    "Import the necessary libraries"
   ]
  },
  {
   "cell_type": "code",
   "execution_count": 378,
   "id": "59faf02d-b30d-4de6-8006-d412ad08f828",
   "metadata": {},
   "outputs": [],
   "source": [
    "import pandas as pd\n",
    "import matplotlib.pyplot as plt\n",
    "import numpy as np"
   ]
  },
  {
   "cell_type": "code",
   "execution_count": 380,
   "id": "cbc60e84-d9f9-4b79-a387-f49961431edc",
   "metadata": {},
   "outputs": [],
   "source": [
    "#Change pandas display options to display all columns of the DataFrame\n",
    "\n",
    "pd.set_option(\"display.max_columns\",None)\n",
    "#Change pandas display options to display all rows of the DataFrame\n",
    "pd.set_option(\"display.max_rows\",None)\n",
    "# Change pandas display options to show all columns at once\n",
    "pd.set_option(\"display.expand_frame_repr\",False)\n",
    "# Change pandas display options to show whole numbers (not scientific notation)\n",
    "pd.set_option('display.float_format', '{:,.0f}'.format)"
   ]
  },
  {
   "cell_type": "code",
   "execution_count": 382,
   "id": "b3d72ed5-8fe2-45e4-bb1e-5d7701cfed89",
   "metadata": {},
   "outputs": [
    {
     "name": "stdout",
     "output_type": "stream",
     "text": [
      "   transaction_id        date  customer_id  amount    type                           description\n",
      "0               1  2020-10-26          926   6,478  credit    Expect series shake art again our.\n",
      "1               2  2020-01-08          466   1,256  credit  Each left similar likely coach take.\n"
     ]
    }
   ],
   "source": [
    "#Load the data\n",
    "\n",
    "df = pd.read_csv('Downloads/financial_transactions.csv')\n",
    "print(df.head(2))"
   ]
  },
  {
   "cell_type": "markdown",
   "id": "32a0e4bd-0a3f-42d5-a52e-a44f2227c59c",
   "metadata": {},
   "source": [
    "Data Exploration "
   ]
  },
  {
   "cell_type": "code",
   "execution_count": 385,
   "id": "002c2861-091b-4f18-b42e-50705ca3b91b",
   "metadata": {},
   "outputs": [
    {
     "name": "stdout",
     "output_type": "stream",
     "text": [
      "       transaction_id  customer_id  amount\n",
      "count         100,000      100,000 100,000\n",
      "mean           50,000          500   5,009\n",
      "std            28,868          289   2,888\n",
      "min                 1            1       1\n",
      "25%            25,001          249   2,515\n",
      "50%            50,000          499   5,006\n",
      "75%            75,000          750   7,514\n",
      "max           100,000        1,000  10,000\n"
     ]
    }
   ],
   "source": [
    "print(df.describe())\n"
   ]
  },
  {
   "cell_type": "code",
   "execution_count": 387,
   "id": "366bb955-2d9e-4489-9eb6-8c7c995ffd92",
   "metadata": {},
   "outputs": [
    {
     "name": "stdout",
     "output_type": "stream",
     "text": [
      "<class 'pandas.core.frame.DataFrame'>\n",
      "RangeIndex: 100000 entries, 0 to 99999\n",
      "Data columns (total 6 columns):\n",
      " #   Column          Non-Null Count   Dtype  \n",
      "---  ------          --------------   -----  \n",
      " 0   transaction_id  100000 non-null  int64  \n",
      " 1   date            100000 non-null  object \n",
      " 2   customer_id     100000 non-null  int64  \n",
      " 3   amount          100000 non-null  float64\n",
      " 4   type            100000 non-null  object \n",
      " 5   description     100000 non-null  object \n",
      "dtypes: float64(1), int64(2), object(3)\n",
      "memory usage: 4.6+ MB\n",
      "None\n"
     ]
    }
   ],
   "source": [
    "#Check to understand the features of each column better\n",
    "\n",
    "print(df.info())"
   ]
  },
  {
   "cell_type": "markdown",
   "id": "41725f83-274e-46bc-b86c-5eeb9961d25a",
   "metadata": {},
   "source": [
    "Data Cleaning\n"
   ]
  },
  {
   "cell_type": "code",
   "execution_count": 390,
   "id": "0fe0eb30-648e-4727-8646-3e9b60bdf834",
   "metadata": {},
   "outputs": [
    {
     "name": "stdout",
     "output_type": "stream",
     "text": [
      "transaction_id    0\n",
      "date              0\n",
      "customer_id       0\n",
      "amount            0\n",
      "type              0\n",
      "description       0\n",
      "dtype: int64\n"
     ]
    }
   ],
   "source": [
    "#Check for null values\n",
    "\n",
    "print(df[df.isna()].count())"
   ]
  },
  {
   "cell_type": "code",
   "execution_count": 392,
   "id": "82adaba6-837a-4eac-959b-54bc5be0cdf8",
   "metadata": {},
   "outputs": [
    {
     "data": {
      "text/plain": [
       "False"
      ]
     },
     "execution_count": 392,
     "metadata": {},
     "output_type": "execute_result"
    }
   ],
   "source": [
    "#Check for duplicates\n",
    "\n",
    "df.duplicated().any()"
   ]
  },
  {
   "cell_type": "markdown",
   "id": "5a04d310-02a5-488f-8be2-c18d96fb227c",
   "metadata": {},
   "source": [
    "Data Transformation and Processing"
   ]
  },
  {
   "cell_type": "code",
   "execution_count": 395,
   "id": "bd7637eb-4eed-4587-abef-dee86c2e324e",
   "metadata": {},
   "outputs": [],
   "source": [
    "#Convert the 'date' column to datetime datatype\n",
    "\n",
    "df['date'] = pd.to_datetime(df['date'])\n"
   ]
  },
  {
   "cell_type": "code",
   "execution_count": 397,
   "id": "a9c9d5bc-4a88-4fda-9ee1-4ecb7f5c5fed",
   "metadata": {},
   "outputs": [
    {
     "name": "stdout",
     "output_type": "stream",
     "text": [
      "   transaction_id       date  customer_id  amount    type                                        description  year\n",
      "0               1 2020-10-26          926   6,478  credit                 Expect series shake art again our.  2020\n",
      "1               2 2020-01-08          466   1,256  credit               Each left similar likely coach take.  2020\n",
      "2               3 2019-09-02          110   7,970   debit  Direction wife job pull determine leader move ...  2019\n",
      "3               4 2020-12-02          142   2,927  credit                    Agree reveal buy black already.  2020\n",
      "4               5 2020-12-02          944   4,662   debit       Child relationship show college whom speech.  2020\n"
     ]
    }
   ],
   "source": [
    "#Extract the year from the 'date' column\n",
    "\n",
    "df['year'] = df['date'].dt.year\n",
    "print(df.head())"
   ]
  },
  {
   "cell_type": "code",
   "execution_count": 399,
   "id": "f56ed075-3dea-4cc0-8040-673a199ccf07",
   "metadata": {
    "scrolled": true
   },
   "outputs": [
    {
     "name": "stdout",
     "output_type": "stream",
     "text": [
      "   transaction_id       date  customer_id  amount    type                                        description  year  month\n",
      "0               1 2020-10-26          926   6,478  credit                 Expect series shake art again our.  2020     10\n",
      "1               2 2020-01-08          466   1,256  credit               Each left similar likely coach take.  2020      1\n",
      "2               3 2019-09-02          110   7,970   debit  Direction wife job pull determine leader move ...  2019      9\n",
      "3               4 2020-12-02          142   2,927  credit                    Agree reveal buy black already.  2020     12\n",
      "4               5 2020-12-02          944   4,662   debit       Child relationship show college whom speech.  2020     12\n"
     ]
    }
   ],
   "source": [
    "#Extract the month from the 'date' column\n",
    "\n",
    "df['month'] = df['date'].dt.month\n",
    "print(df.head())"
   ]
  },
  {
   "cell_type": "code",
   "execution_count": 401,
   "id": "765c87b5-6a4c-44ce-b3f0-7af9327ac443",
   "metadata": {},
   "outputs": [
    {
     "name": "stdout",
     "output_type": "stream",
     "text": [
      "   transaction_id       date  year  customer_id  amount    type                                        description  month\n",
      "0               1 2020-10-26  2020          926   6,478  credit                 Expect series shake art again our.     10\n",
      "1               2 2020-01-08  2020          466   1,256  credit               Each left similar likely coach take.      1\n",
      "2               3 2019-09-02  2019          110   7,970   debit  Direction wife job pull determine leader move ...      9\n",
      "3               4 2020-12-02  2020          142   2,927  credit                    Agree reveal buy black already.     12\n",
      "4               5 2020-12-02  2020          944   4,662   debit       Child relationship show college whom speech.     12\n"
     ]
    }
   ],
   "source": [
    "#Reorder columns: move column 'year' from 7th position (index 6) to 3rd position (index 2)\n",
    "\n",
    "# Step 1: Pop the 'year' column from the 7th position (index 6)\n",
    "year_col = df.pop('year')\n",
    "\n",
    "# Step 2: Insert the 'year' column at the 3rd position (index 2)\n",
    "df.insert(2, 'year', year_col)\n",
    "\n",
    "# Display the DataFrame with reordered columns\n",
    "print(df.head())\n"
   ]
  },
  {
   "cell_type": "code",
   "execution_count": 403,
   "id": "8f2d7b04-32af-4012-ab80-44274bdd484e",
   "metadata": {},
   "outputs": [
    {
     "name": "stdout",
     "output_type": "stream",
     "text": [
      "   transaction_id       date  year  month  customer_id  amount    type                                        description\n",
      "0               1 2020-10-26  2020     10          926   6,478  credit                 Expect series shake art again our.\n",
      "1               2 2020-01-08  2020      1          466   1,256  credit               Each left similar likely coach take.\n",
      "2               3 2019-09-02  2019      9          110   7,970   debit  Direction wife job pull determine leader move ...\n",
      "3               4 2020-12-02  2020     12          142   2,927  credit                    Agree reveal buy black already.\n",
      "4               5 2020-12-02  2020     12          944   4,662   debit       Child relationship show college whom speech.\n"
     ]
    }
   ],
   "source": [
    "#Reorder columns: move column 'month' from 8th position (index 7) to 4th position (index 3)\n",
    "\n",
    "# Step 1: Pop the 'month' column from the 8th position (index 7)\n",
    "month_col = df.pop('month')\n",
    "\n",
    "# Step 2: Insert the 'month' column at the 4th position (index 3)\n",
    "df.insert(3, 'month', month_col)\n",
    "\n",
    "# Display the DataFrame with reordered columns\n",
    "print(df.head())\n"
   ]
  },
  {
   "cell_type": "code",
   "execution_count": 405,
   "id": "b40b1c45-0076-4467-829a-6b0ab7f93d94",
   "metadata": {},
   "outputs": [
    {
     "name": "stdout",
     "output_type": "stream",
     "text": [
      "   transaction_id       date  year      month  customer_id  amount    type                                        description\n",
      "0               1 2020-10-26  2020    October          926   6,478  credit                 Expect series shake art again our.\n",
      "1               2 2020-01-08  2020    January          466   1,256  credit               Each left similar likely coach take.\n",
      "2               3 2019-09-02  2019  September          110   7,970   debit  Direction wife job pull determine leader move ...\n",
      "3               4 2020-12-02  2020   December          142   2,927  credit                    Agree reveal buy black already.\n",
      "4               5 2020-12-02  2020   December          944   4,662   debit       Child relationship show college whom speech.\n"
     ]
    }
   ],
   "source": [
    "#Convert the value in the month column to string type\n",
    "\n",
    "df['month'] = df['date'].apply(lambda x : x.strftime(\"%B\"))\n",
    "print(df.head())"
   ]
  },
  {
   "cell_type": "code",
   "execution_count": 406,
   "id": "f27ad73e-e421-4937-812a-c0b9b30db424",
   "metadata": {},
   "outputs": [
    {
     "name": "stdout",
     "output_type": "stream",
     "text": [
      "year\n",
      "2018    77,213,542\n",
      "2019   100,273,650\n",
      "2020   100,936,349\n",
      "2021    99,245,078\n",
      "2022    99,084,987\n",
      "2023    24,147,671\n",
      "Name: amount, dtype: float64\n"
     ]
    }
   ],
   "source": [
    "#Sum of transactions in each year (rounded up to 2 decimal places)\n",
    "\n",
    "df_sum = df.groupby(\"year\")[\"amount\"].sum()\n",
    "print(df_sum)"
   ]
  },
  {
   "cell_type": "code",
   "execution_count": 409,
   "id": "83d8850a-30ce-4808-8df2-f6e362b5fb3d",
   "metadata": {},
   "outputs": [
    {
     "name": "stdout",
     "output_type": "stream",
     "text": [
      "    transaction_id       date  year      month  customer_id  amount      type                                  description\n",
      "5                6 2021-04-25  2021      April          900   3,650    credit                          Century front item.\n",
      "16              17 2021-06-05  2021       June          658   9,751  transfer  Listen operation enough those society open.\n",
      "21              22 2021-03-19  2021      March          988   7,627     debit                   This pass civil education.\n",
      "23              24 2021-09-02  2021  September            8   2,488    credit          Speak ever piece whom indicate she.\n",
      "27              28 2021-08-29  2021     August          570   1,282  transfer                      Have focus admit again.\n",
      "\n",
      "Count of total transactions in 2021\n",
      "19759\n",
      "\n",
      "Sum of monthly transactions in 2021\n",
      "month\n",
      "January     8,727,143\n",
      "November    8,613,379\n",
      "May         8,517,713\n",
      "October     8,469,045\n",
      "June        8,378,079\n",
      "December    8,375,102\n",
      "July        8,319,212\n",
      "March       8,114,198\n",
      "April       7,957,848\n",
      "September   7,953,756\n",
      "February    7,928,900\n",
      "August      7,890,702\n",
      "Name: amount, dtype: float64\n",
      "\n",
      "Count of transactions by payment type in 2021\n",
      "type\n",
      "credit      6600\n",
      "debit       6575\n",
      "transfer    6584\n",
      "Name: month, dtype: int64\n",
      "\n",
      "Sum of transactions by payment type in 2021\n",
      "type\n",
      "credit     32,949,291\n",
      "debit      32,997,034\n",
      "transfer   33,298,752\n",
      "Name: amount, dtype: float64\n"
     ]
    }
   ],
   "source": [
    "#Transaction volume in each month of the year 2021\n",
    "\n",
    "#Filter the data for the year 2021\n",
    "df_2021 = df[df[\"year\"]==2021]\n",
    "print(df_2021.head())\n",
    "\n",
    "#Count of total transactions in 2021\n",
    "print(\"\\nCount of total transactions in 2021\")\n",
    "print(df_2021['description'].count())\n",
    "      \n",
    "#Group year 2021 by 'month', then sum the 'amount' of transactions for each month\n",
    "print(\"\\nSum of monthly transactions in 2021\")\n",
    "df_2021_monthly = df_2021.groupby(\"month\")[\"amount\"].sum().sort_values(ascending=False)\n",
    "print(df_2021_monthly)\n",
    "\n",
    "#Group the monthly transactions by payment type\n",
    "print(\"\\nCount of transactions by payment type in 2021\")\n",
    "df_2021_type = df_2021.groupby(\"type\")[\"month\"].count()\n",
    "print(df_2021_type)\n",
    "\n",
    "#Group the sum of the monthly transactions by payment type\n",
    "print(\"\\nSum of transactions by payment type in 2021\")\n",
    "df_2021_type_amount = df_2021.groupby(\"type\")[\"amount\"].sum()\n",
    "print(df_2021_type_amount)\n",
    "\n"
   ]
  },
  {
   "cell_type": "code",
   "execution_count": 411,
   "id": "ab88668d-c896-4c31-bd9b-b0263177fb50",
   "metadata": {},
   "outputs": [
    {
     "name": "stdout",
     "output_type": "stream",
     "text": [
      "customer_id  type    \n",
      "1            credit     35,418\n",
      "             debit      28,994\n",
      "             transfer   31,430\n",
      "2            credit     15,485\n",
      "             debit      12,093\n",
      "             transfer   36,651\n",
      "3            credit     41,164\n",
      "             debit      17,366\n",
      "             transfer    9,426\n",
      "4            credit     39,293\n",
      "Name: amount, dtype: float64\n"
     ]
    }
   ],
   "source": [
    "#How much was spent by each customer per transaction type in 2020\n",
    "df_2020 = df[df[\"year\"]==2020]\n",
    "df_2020_spending = df_2020.groupby(['customer_id','type'])['amount'].sum()\n",
    "print(df_2020_spending.head(10))"
   ]
  },
  {
   "cell_type": "code",
   "execution_count": 428,
   "id": "e156eb49-4a16-4389-8f7e-65b9c343791e",
   "metadata": {},
   "outputs": [
    {
     "name": "stdout",
     "output_type": "stream",
     "text": [
      "year\n",
      "2018    77,213,542\n",
      "2019   100,273,650\n",
      "2020   100,936,349\n",
      "2021    99,245,078\n",
      "2022    99,084,987\n",
      "2023    24,147,671\n",
      "Name: amount, dtype: float64\n"
     ]
    }
   ],
   "source": [
    "#Sum of transactions in each year (rounded up to 2 decimal places)\n",
    "\n",
    "df_sum = df.groupby(\"year\")[\"amount\"].sum()\n",
    "print(df_sum)"
   ]
  },
  {
   "cell_type": "code",
   "execution_count": 507,
   "id": "20ce8f7a-78c9-4790-b6a3-bd68bf038095",
   "metadata": {},
   "outputs": [],
   "source": [
    "#Save the processed data\n",
    "\n",
    "df_sum.to_csv(\"Downloads/resources/transactions_output.csv\", sep = \"|\", index = \"False\")\n"
   ]
  },
  {
   "cell_type": "markdown",
   "id": "8c821f2c-8c96-4f9a-9c68-923438191abc",
   "metadata": {},
   "source": [
    "Data Visualization"
   ]
  },
  {
   "cell_type": "code",
   "execution_count": 451,
   "id": "ada56a8c-f44a-4c6a-a64d-0e950337c3d4",
   "metadata": {},
   "outputs": [
    {
     "data": {
      "text/plain": [
       "<function matplotlib.pyplot.show(close=None, block=None)>"
      ]
     },
     "execution_count": 451,
     "metadata": {},
     "output_type": "execute_result"
    },
    {
     "data": {
      "image/png": "[encoded data removed]",
      "text/plain": [
       "<Figure size 640x480 with 1 Axes>"
      ]
     },
     "metadata": {},
     "output_type": "display_data"
    }
   ],
   "source": [
    "#Distribution of transaction volume in each year\n",
    "#step 1: define the data\n",
    "x= df_sum\n",
    "y= df_sum\n",
    "#[\"year\"] [\"amount\"]\n",
    "#step 2: create a line chart using plot()\n",
    "plt.plot(df_sum.index, df_sum.values, color = \"blue\")\n",
    "plt.xlabel(\"year\")\n",
    "plt.ylabel(\"amount (in hundreds of million)\")\n",
    "plt.title(\"Distribution of transaction volume in each year\")\n",
    "plt.show"
   ]
  },
  {
   "cell_type": "code",
   "execution_count": 475,
   "id": "a60b615c-2a77-470c-b841-c80a4e6b7e2a",
   "metadata": {},
   "outputs": [
    {
     "name": "stdout",
     "output_type": "stream",
     "text": [
      "type\n",
      "credit     33,837,229\n",
      "debit      33,255,455\n",
      "transfer   33,843,665\n",
      "Name: amount, dtype: float64\n",
      "type\n",
      "credit     32,949,291\n",
      "debit      32,997,034\n",
      "transfer   33,298,752\n",
      "Name: amount, dtype: float64\n",
      "type\n",
      "credit     33,366,311\n",
      "debit      33,098,668\n",
      "transfer   32,620,008\n",
      "Name: amount, dtype: float64\n",
      "type\n",
      "credit     8,347,726\n",
      "debit      7,693,130\n",
      "transfer   8,106,814\n",
      "Name: amount, dtype: float64\n"
     ]
    }
   ],
   "source": [
    "#Distribution of the transaction types in each year\n",
    "\n",
    "df_2020 = df[df[\"year\"]==2020]\n",
    "df_2020_type = df_2020.groupby(\"type\")[\"amount\"].sum()\n",
    "print(df_2020_type.head())\n",
    "\n",
    "df_2021 = df[df[\"year\"]==2021]\n",
    "df_2021_type = df_2021.groupby(\"type\")[\"amount\"].sum()\n",
    "print(df_2021_type.head())\n",
    "\n",
    "df_2022 = df[df[\"year\"]==2022]\n",
    "df_2022_type = df_2022.groupby(\"type\")[\"amount\"].sum()\n",
    "print(df_2022_type.head())\n",
    "\n",
    "df_2023 = df[df[\"year\"]==2023]\n",
    "df_2023_type = df_2023.groupby(\"type\")[\"amount\"].sum()\n",
    "print(df_2023_type.head())"
   ]
  },
  {
   "cell_type": "code",
   "execution_count": 497,
   "id": "4e259bad-6a4f-406b-aa22-d67a7400b5b9",
   "metadata": {},
   "outputs": [
    {
     "data": {
      "image/png": "[encoded data removed]",
      "text/plain": [
       "<Figure size 800x1000 with 4 Axes>"
      ]
     },
     "metadata": {},
     "output_type": "display_data"
    }
   ],
   "source": [
    "#Distribution of the transaction types in each year (pie chart)\n",
    "\n",
    "plt.figure(figsize=(8,10))\n",
    "\n",
    "#pie chart for year 2020\n",
    "plt.subplot(2,2,1)\n",
    "plt.pie(df_2020_type, labels=df_2020_type.index, autopct=\"%1.1f%%\")  # Use .index for 'type'\n",
    "plt.title(\"Year 2020\")\n",
    "\n",
    "#pie chart for year 2021\n",
    "plt.subplot(2,2,2)\n",
    "plt.pie(df_2021_type, labels=df_2021_type.index, autopct=\"%1.1f%%\")  # Use .index for 'type'\n",
    "plt.title(\"Year 2021\")\n",
    "\n",
    "#pie chart for year 2022\n",
    "plt.subplot(2,2,3)\n",
    "plt.pie(df_2022_type, labels=df_2022_type.index, autopct=\"%1.1f%%\")  # Use .index for 'type'\n",
    "plt.title(\"Year 2022\")\n",
    "\n",
    "#pie chart for year 2023\n",
    "plt.subplot(2,2,4)\n",
    "plt.pie(df_2023_type, labels=df_2023_type.index, autopct=\"%1.1f%%\")  # Use .index for 'type'\n",
    "plt.title(\"Year 2023\")\n",
    "\n",
    "plt.tight_layout()\n",
    "plt.show()"
   ]
  }
 ],
 "metadata": {
  "kernelspec": {
   "display_name": "Python [conda env:base] *",
   "language": "python",
   "name": "conda-base-py"
  },
  "language_info": {
   "codemirror_mode": {
    "name": "ipython",
    "version": 3
   },
   "file_extension": ".py",
   "mimetype": "text/x-python",
   "name": "python",
   "nbconvert_exporter": "python",
   "pygments_lexer": "ipython3",
   "version": "3.12.7"
  }
 },
 "nbformat": 4,
 "nbformat_minor": 5
}
